{
 "cells": [
  {
   "cell_type": "markdown",
   "id": "20ab19f2",
   "metadata": {},
   "source": [
    "## Analyzing Used Car Sales\n",
    "\n",
    "### Project Summary\n",
    "Here I aim to get at an overview of the automotive auction industry mainly with the objective to figure out where and which model of Ford F150 can be procured at the most affordable price.\n",
    "\n",
    "**Note:**\n",
    "Ford F-150 is the highest selling automobile for decades in the US.\n",
    "\n",
    "### Objectives:\n",
    "1. Read in and manipulate data with Pandas.\n",
    "2. Build summary charts with Matplotlib and Seaborn.\n",
    "3. Leverage Seaborn's advanced chart types to mine insights from the data and make a decision.\n",
    "\n",
    "### The Data Set:\n",
    "The data set consists of used car auction data (United States and Canada).\n",
    "(Source: Kaggle; https://www.kaggle.com/datasets/tunguz/used-car-auction-prices)"
   ]
  },
  {
   "cell_type": "code",
   "execution_count": null,
   "id": "3542542c",
   "metadata": {},
   "outputs": [],
   "source": [
    "import numpy as np\n",
    "import pandas as pd\n",
    "import matplotlib.pyplot as plt\n",
    "import seaborn as sns"
   ]
  },
  {
   "cell_type": "code",
   "execution_count": null,
   "id": "808fbd83",
   "metadata": {},
   "outputs": [],
   "source": [
    "# Read in the dataset `car_prices.csv`.\n",
    "# on_bad_lines='skip' is used to avoid data that has inconsistent rows.\n",
    "cars = pd.read_csv(\"../Data/car_prices.csv\", on_bad_lines='skip')"
   ]
  },
  {
   "cell_type": "code",
   "execution_count": null,
   "id": "54c92105",
   "metadata": {},
   "outputs": [],
   "source": [
    "cars.head()"
   ]
  },
  {
   "cell_type": "code",
   "execution_count": null,
   "id": "a758c15a",
   "metadata": {},
   "outputs": [],
   "source": [
    "cars.info()"
   ]
  },
  {
   "cell_type": "code",
   "execution_count": null,
   "id": "99eac2b7",
   "metadata": {},
   "outputs": [],
   "source": [
    "cars.describe()"
   ]
  },
  {
   "cell_type": "markdown",
   "id": "5dae44c9",
   "metadata": {},
   "source": [
    "# Numeric Variable Relationships"
   ]
  },
  {
   "cell_type": "code",
   "execution_count": null,
   "id": "77f99857",
   "metadata": {},
   "outputs": [],
   "source": [
    "# Pairplot with upper corner turned off.\n",
    "sns.pairplot(\n",
    "    cars,\n",
    "    corner = True\n",
    ")\n",
    "plt.show()"
   ]
  },
  {
   "cell_type": "markdown",
   "id": "f0ee9c2f",
   "metadata": {},
   "source": [
    "* The relationship between `sellingprice` and `mmr` ('Manheim Market Report' or the recommended selling price) is strong because `mmr` would have been set by experts in the industry who can predict the price at which the car would sell.\n",
    "* The newer the car, more its selling price (`sellingprice` increases with `year`)."
   ]
  },
  {
   "cell_type": "code",
   "execution_count": null,
   "id": "e688027b",
   "metadata": {},
   "outputs": [],
   "source": [
    "# Filter dataframe down to `body` styles ['SUV', 'Sedan', 'Convertible', and 'Coupe']. Color the scatterplot based on values in the `body` column. \n",
    "style_list = [\"SUV\", \"Sedan\", \"Convertible\", \"Coupe\"]\n",
    "\n",
    "g = sns.pairplot(\n",
    "    cars.query('body in @style_list'),\n",
    "    corner = True,\n",
    "    hue = 'body'\n",
    ")\n",
    "\n",
    "g.fig.suptitle('Sedans and SUVs Dominate', fontsize=14, x=0.3, y=0.915)\n",
    "g.fig.subplots_adjust(top=0.9)\n",
    "plt.show()"
   ]
  },
  {
   "cell_type": "markdown",
   "id": "4484b427",
   "metadata": {},
   "source": [
    "#### Correlation Heat Map"
   ]
  },
  {
   "cell_type": "code",
   "execution_count": null,
   "id": "49b05f50",
   "metadata": {},
   "outputs": [],
   "source": [
    "# Create a correlation matrix.\n",
    "cars_corr = cars.select_dtypes(include=[np.number]).corr()\n",
    "cars_corr"
   ]
  },
  {
   "cell_type": "code",
   "execution_count": null,
   "id": "7ed52066",
   "metadata": {},
   "outputs": [],
   "source": [
    "# Create a heatmap with the correlation matrix.\n",
    "sns.heatmap(\n",
    "    cars_corr,\n",
    "    cmap = 'RdYlGn',\n",
    "    annot = True,\n",
    "    fmt = '0.2f'\n",
    ")\n",
    "plt.show()"
   ]
  },
  {
   "cell_type": "markdown",
   "id": "8f5fa252",
   "metadata": {},
   "source": [
    "* `condition` and `year` have negative correlation with `odometer`. This makes sense. Newer the car and better the condition, it would have lesser `odometer` readings (lesser kms it would have driven) and vice-versa."
   ]
  },
  {
   "cell_type": "markdown",
   "id": "0a3b6f83",
   "metadata": {},
   "source": [
    "#### Value Retention"
   ]
  },
  {
   "cell_type": "code",
   "execution_count": null,
   "id": "860d4bf0",
   "metadata": {},
   "outputs": [],
   "source": [
    "# Create a data frame with the brands ['Ford', 'BMW', 'Toyota', 'Chevrolet'] filtered.\n",
    "cars_make = cars.query(\"make in ['Ford', 'BMW', 'Toyota', 'Chevrolet']\")\n",
    "cars_make.head()"
   ]
  },
  {
   "cell_type": "code",
   "execution_count": null,
   "id": "7790e0da",
   "metadata": {},
   "outputs": [],
   "source": [
    "# Create a linear relationship plot between 'odometer' and 'selling price' for each of the 5 brands.\n",
    "# Filter down appropriately so that the data points are not very crowded.\n",
    "\n",
    "\n",
    "g = sns.lmplot(\n",
    "    x = 'odometer',\n",
    "    y = 'sellingprice',\n",
    "    hue = 'make',\n",
    "    scatter_kws = {'alpha': 0.3},\n",
    "    data=cars_make.query(\"sellingprice <150000 and odometer < 200000\").sample(1000)\n",
    ")\n",
    "sns.despine()\n",
    "g.fig.suptitle('BMW Price Declines the Most With Mileage', fontsize=12)\n",
    "g.fig.subplots_adjust(top=0.9)"
   ]
  },
  {
   "cell_type": "code",
   "execution_count": null,
   "id": "67103200",
   "metadata": {},
   "outputs": [],
   "source": [
    "# To get the parameters (slope & intercept) of the regression lines of each brand.\n",
    "import scipy.stats as stats\n",
    "brand_list = ['Ford', 'BMW', 'Toyota', 'Chevrolet']\n",
    "cars_regress = cars_make.dropna()\n",
    "\n",
    "for make in cars_regress['make'].unique():\n",
    "    filtered_df = cars_regress.loc[cars_regress['make']==make]\n",
    "    print(f\"{make}: {stats.linregress(x=filtered_df['odometer'], y=filtered_df['sellingprice'])[0:2]}\")"
   ]
  },
  {
   "cell_type": "markdown",
   "id": "6cb34163",
   "metadata": {},
   "source": [
    "* Toyota loses the least amount of value with mileage whereas BMW loses the most."
   ]
  },
  {
   "cell_type": "markdown",
   "id": "7140cb92",
   "metadata": {},
   "source": [
    "# Categorical Variable Relationships"
   ]
  },
  {
   "cell_type": "code",
   "execution_count": null,
   "id": "cf4ac279",
   "metadata": {},
   "outputs": [],
   "source": [
    "# Add a column 'condition_bins' to assign each row into bins with an increment of 0.5 based on the 'condition' variable.\n",
    "# Build a bar plot of average price by condition.\n",
    "\n",
    "bins = np.linspace(1, 5, 9)\n",
    "labels = [\"1-1.5\", \"1.5-2\", \"2-2.5\", \"2.5-3\", \"3-3.5\", \"3.5-4\", \"4-4.5\", \"4.5-5\"]\n",
    "cars = cars.assign(\n",
    "    condition_bins = pd.cut(cars['condition'], bins = bins, labels = labels)\n",
    ")\n",
    "\n",
    "fig, ax = plt.subplots(figsize=(8, 8))\n",
    "sns.barplot(\n",
    "    x = 'condition_bins',\n",
    "    y = 'sellingprice',\n",
    "    hue = 'condition_bins',\n",
    "    legend=None,\n",
    "    data = cars\n",
    ")\n",
    "\n",
    "ax.set_title('Average Price by Condition')\n",
    "ax.set_xlabel('Condition Bins')\n",
    "ax.set_ylabel('Selling Price')\n",
    "sns.despine()"
   ]
  },
  {
   "cell_type": "markdown",
   "id": "7a7c4788",
   "metadata": {},
   "source": [
    "# Price by make and condition"
   ]
  },
  {
   "cell_type": "code",
   "execution_count": null,
   "id": "5e59f42a",
   "metadata": {},
   "outputs": [],
   "source": [
    "# Find the top 10 most common car brands.\n",
    "top_10_brands = cars['make'].value_counts().iloc[0:10].index\n",
    "top_10_brands"
   ]
  },
  {
   "cell_type": "code",
   "execution_count": null,
   "id": "fbbc6ff7",
   "metadata": {},
   "outputs": [],
   "source": [
    "# Create a pivot table with the common car brands as rows, condition bins as columns and average selling price as values.\n",
    "\n",
    "top_10_brands_pivot = cars.query(\"make in @top_10_brands\").pivot_table(\n",
    "    index = 'make',\n",
    "    columns = 'condition_bins',\n",
    "    values = 'sellingprice',\n",
    "    aggfunc = 'mean'\n",
    ")\n",
    "top_10_brands_pivot"
   ]
  },
  {
   "cell_type": "code",
   "execution_count": null,
   "id": "a944cc07",
   "metadata": {
    "scrolled": true
   },
   "outputs": [],
   "source": [
    "# Build a heat map from the pivot table above.\n",
    "fig, ax = plt.subplots(figsize = (8, 8))\n",
    "sns.heatmap(\n",
    "    top_10_brands_pivot,\n",
    "    cmap = 'RdYlGn',\n",
    "    annot = True,\n",
    "    fmt = 'g'\n",
    ")\n",
    "\n",
    "ax.set_title('Average Selling Price by Make and Quality')\n",
    "ax.set_xlabel('Condition Bins')\n",
    "ax.set_ylabel('Brand')\n",
    "plt.show()"
   ]
  },
  {
   "cell_type": "markdown",
   "id": "7bf34ecf",
   "metadata": {},
   "source": [
    "* BMW has the highest selling price in its best condition.\n",
    "* In its lowest condition, BMW sells at a lesser price than Honda, Toyota, Nissan & Kia.\n",
    "* Chevrolet and Ford have higher selling prices in its best condition.\n",
    "* American car brands sell trucks and SUVs more; they have a higher selling price than a Sedan. Toyota sells more Sedans than Ford and Chrysler which explains the increased prices of Ford and Chrysler as compared to Toyota."
   ]
  },
  {
   "cell_type": "markdown",
   "id": "648d3482",
   "metadata": {},
   "source": [
    "# Ford F-150 Deep Dive"
   ]
  },
  {
   "cell_type": "code",
   "execution_count": null,
   "id": "cd103de7",
   "metadata": {},
   "outputs": [],
   "source": [
    "# Filter your data down to rows where 'model' is 'F-150'.\n",
    "f150s = cars[cars[\"model\"] == \"F-150\"]\n",
    "\n",
    "f150s.head()"
   ]
  },
  {
   "cell_type": "code",
   "execution_count": null,
   "id": "37993eb5",
   "metadata": {},
   "outputs": [],
   "source": [
    "# Build a histogram of sellingprice with 10 bins.\n",
    "fig, ax = plt.subplots()\n",
    "sns.histplot(\n",
    "    f150s['sellingprice'],\n",
    "    bins = 10\n",
    ")\n",
    "\n",
    "ax.set_title('Distribution of Selling Price of Ford F150')\n",
    "ax.set_xlabel('Selling Price')\n",
    "sns.despine()\n",
    "plt.show()"
   ]
  },
  {
   "cell_type": "code",
   "execution_count": null,
   "id": "bf0d690d",
   "metadata": {
    "scrolled": true
   },
   "outputs": [],
   "source": [
    "# Build a barplot of `sellingprice` by `trim` for the F150s.\n",
    "# Car trim refers to a particular version of a model with a particular set of configuration, and is usually designated with a specific moniker.\n",
    "\n",
    "fig, ax = plt.subplots()\n",
    "sns.barplot(\n",
    "    x = 'trim',\n",
    "    y = 'sellingprice',\n",
    "    hue = 'trim',\n",
    "    data = f150s\n",
    ")\n",
    "\n",
    "ax.set_title('Selling Price by Car Trims of Ford F150')\n",
    "ax.set_xlabel('Trim')\n",
    "ax.set_ylabel('Selling Price')\n",
    "ax.xaxis.set_tick_params(rotation=90)\n",
    "sns.despine()"
   ]
  },
  {
   "cell_type": "code",
   "execution_count": null,
   "id": "af929394",
   "metadata": {},
   "outputs": [],
   "source": [
    "# Filter the dataset down to the trim levels [\"XL\", \"XLT\", \"Platinum\", \"SVT Raptor\"] (Current available trim models).\n",
    "# Then, build a jointplot of `condition` (not binned) by `sellingprice`.\n",
    "\n",
    "trim_list = ['XL', 'XLT', 'Platinum', 'SVT Raptor']\n",
    "sns.jointplot(\n",
    "    x = 'condition',\n",
    "    y = 'sellingprice',\n",
    "    hue = 'trim',\n",
    "    data = f150s.query(\"trim in @trim_list\")\n",
    ")\n",
    "plt.show()"
   ]
  },
  {
   "cell_type": "markdown",
   "id": "e8a10c27",
   "metadata": {},
   "source": [
    "* XL has the lowest and SVT raptor has the highest selling price across condition bins."
   ]
  },
  {
   "cell_type": "markdown",
   "id": "40107d04",
   "metadata": {},
   "source": [
    "### Are there any \"Deals\"?"
   ]
  },
  {
   "cell_type": "code",
   "execution_count": null,
   "id": "6fc72934",
   "metadata": {},
   "outputs": [],
   "source": [
    "# Create a column `diff_to_mmr` which is the difference between `sellingprice` and `mmr`.\n",
    "# Group by color, aggregating by mean of 'diff_to_mmr'.\n",
    "f150s_by_color = f150s.assign(\n",
    "     diff_to_mmr = f150s['sellingprice'] - f150s['mmr']\n",
    " ).groupby('color').agg({'diff_to_mmr': 'mean'})\n",
    "f150s_by_color"
   ]
  },
  {
   "cell_type": "code",
   "execution_count": null,
   "id": "3259207e",
   "metadata": {},
   "outputs": [],
   "source": [
    "# Build a barplot looking at mean `diff_to_mmr` by `color.\n",
    "sns.set_style(\"darkgrid\")\n",
    "fig, ax = plt.subplots()\n",
    "sns.barplot(\n",
    "    x = 'color',\n",
    "    y = 'diff_to_mmr',\n",
    "    hue = 'color',\n",
    "    errorbar = None,\n",
    "    legend = None,\n",
    "    data = f150s_by_color\n",
    ")\n",
    "ax.set_title('Orange Color Sells Above the Recommended Price')\n",
    "ax.set_xlabel('Color')\n",
    "ax.set_ylabel('Selling Price - Recommended Price')\n",
    "ax.xaxis.set_tick_params(rotation=90)"
   ]
  },
  {
   "cell_type": "markdown",
   "id": "b0dd44ef",
   "metadata": {},
   "source": [
    "* Orange is the only colour that sells above the recommended retail price. All other colors sell below or at the recommended price.\n",
    "* Charcoal sells alomost 600 dollars below the recommended price. If color is not a criteria, then going with charcoal color would cost us the least."
   ]
  },
  {
   "cell_type": "code",
   "execution_count": null,
   "id": "4f4dfd39",
   "metadata": {
    "scrolled": true
   },
   "outputs": [],
   "source": [
    "# Further filter the data to the trims above. \n",
    "# Exclude the color 'orange' and look only at trucks from years between 2009 and 2014.\n",
    "trim_list = ['XL', 'XLT', 'Platinum', 'SVT Raptor']\n",
    "f150s_reduced = f150s.query(\"trim in @trim_list and color != 'orange'\").loc[f150s['year'].between(2009, 2014)]\n",
    "f150s_reduced.head()"
   ]
  },
  {
   "cell_type": "code",
   "execution_count": null,
   "id": "53501337",
   "metadata": {},
   "outputs": [],
   "source": [
    "# Create a pivot table with trim as the index and condition_bins as columns and mean selling price as values.\n",
    "f150s_pivot = f150s_reduced.pivot_table(\n",
    "    index = 'trim',\n",
    "    columns = 'condition_bins',\n",
    "    values =  'sellingprice',\n",
    "    aggfunc = 'mean'\n",
    ")\n",
    "f150s_pivot"
   ]
  },
  {
   "cell_type": "code",
   "execution_count": null,
   "id": "36eae297",
   "metadata": {},
   "outputs": [],
   "source": [
    "# Create a heat map with the pivot table.\n",
    "sns.reset_defaults()\n",
    "fig, ax = plt.subplots(figsize = (10, 10))\n",
    "sns.heatmap(\n",
    "    f150s_pivot,\n",
    "    annot = True,\n",
    "    fmt = 'g'\n",
    ")\n",
    "plt.show()"
   ]
  },
  {
   "cell_type": "markdown",
   "id": "897b321b",
   "metadata": {},
   "source": [
    "* XL and XLT are the cheapest options available. Let's decide to go ahead with XLT as it has more features than XL but is still quite affordable."
   ]
  },
  {
   "cell_type": "markdown",
   "id": "ff1627c9",
   "metadata": {},
   "source": [
    "### Best state to buy trucks in?"
   ]
  },
  {
   "cell_type": "code",
   "execution_count": null,
   "id": "45bd07d6",
   "metadata": {},
   "outputs": [],
   "source": [
    "# Filter out any trucks with a quality less than 3.5 and group them by state, aggregating by mean and count of 'diff_to_mmr'.\n",
    "f150s_xlr_quality = f150s_reduced.query(\"condition > 3.5 and trim == 'XLT'\").assign(\n",
    "    diff_to_mmr = f150s_reduced['sellingprice'] - f150s_reduced['mmr']\n",
    ").groupby('state').agg(\n",
    "    mean_diff=(\"diff_to_mmr\", 'mean'),\n",
    "    auto_count=(\"diff_to_mmr\", \"count\")\n",
    ")\n",
    "f150s_xlr_quality.head()"
   ]
  },
  {
   "cell_type": "code",
   "execution_count": null,
   "id": "96c3e08f",
   "metadata": {},
   "outputs": [],
   "source": [
    "# Build a subplot with a bar chart of `state` by `diff_to_mmr` and `state` by `count` \n",
    "# Figure out which states sell XLT models below the recommended price and have ample quantity.\n",
    "\n",
    "fig, ax = plt.subplots(2, figsize = (12, 6))\n",
    "sns.barplot(\n",
    "    x= 'state',\n",
    "    y = 'mean_diff',\n",
    "    hue = 'state',\n",
    "    legend = None,\n",
    "    data = f150s_xlr_quality,\n",
    "    ax = ax[0]\n",
    ")\n",
    "\n",
    "sns.barplot(\n",
    "    x= 'state',\n",
    "    y = 'auto_count',\n",
    "    hue = 'state',\n",
    "    legend = None,\n",
    "    data = f150s_xlr_quality,\n",
    "    ax = ax[1]\n",
    ")\n",
    "plt.show()"
   ]
  },
  {
   "cell_type": "markdown",
   "id": "f66abbe9",
   "metadata": {},
   "source": [
    "* Alberta, Alabama, New Mexico and Utah have selling price significantly lower than recommended price. Out of these Alberta and Utah have good quantity available."
   ]
  },
  {
   "cell_type": "code",
   "execution_count": null,
   "id": "ac98ac6d",
   "metadata": {},
   "outputs": [],
   "source": [
    "# List the mean and count of 'diff_to_mmr' by 'saledate' in Utah.\n",
    "f150s.query(\"trim=='XLT' and state == 'ut' and condition > 3.5\").assign(diff_to_mmr = f150s['sellingprice'] - f150s['mmr']).groupby(\"saledate\").agg({\"diff_to_mmr\":[\"mean\", \"count\"]})"
   ]
  },
  {
   "cell_type": "code",
   "execution_count": null,
   "id": "ff81d119",
   "metadata": {},
   "outputs": [],
   "source": [
    "# List the mean and count of 'diff_to_mmr' by 'saledate' in Alberta.\n",
    "f150s.query(\"trim=='XLT' and state == 'ab' and condition > 3.5\").assign(diff_to_mmr = f150s['sellingprice'] - f150s['mmr']).groupby(\"saledate\").agg({\"diff_to_mmr\":[\"mean\", \"count\"]})"
   ]
  },
  {
   "cell_type": "markdown",
   "id": "379b19fc",
   "metadata": {},
   "source": [
    "### Conclusion\n",
    "* Ford F-150 with trim model 'XLT' is popular and affordable. It can be procured from Utah or Alberta at a reasonable price."
   ]
  }
 ],
 "metadata": {
  "kernelspec": {
   "display_name": "Python 3 (ipykernel)",
   "language": "python",
   "name": "python3"
  },
  "language_info": {
   "codemirror_mode": {
    "name": "ipython",
    "version": 3
   },
   "file_extension": ".py",
   "mimetype": "text/x-python",
   "name": "python",
   "nbconvert_exporter": "python",
   "pygments_lexer": "ipython3",
   "version": "3.11.7"
  }
 },
 "nbformat": 4,
 "nbformat_minor": 5
}
